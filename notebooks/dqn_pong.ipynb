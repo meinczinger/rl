{
 "cells": [
  {
   "cell_type": "code",
   "execution_count": 16,
   "metadata": {},
   "outputs": [],
   "source": [
    "from dqn.dqn_base import ConcreteDQN\n",
    "from dqn.neural_net import NeuralNetworkWithCNN\n",
    "from dqn.memory import ExperienceReplay\n",
    "import gymnasium as gym\n",
    "import torch\n",
    "import random\n",
    "import matplotlib.pyplot as plt\n",
    "import numpy as np\n",
    "import IPython\n",
    "from tensorboard import notebook"
   ]
  },
  {
   "cell_type": "code",
   "execution_count": 2,
   "metadata": {},
   "outputs": [],
   "source": [
    "def preprocess_state(state, device):\n",
    "    # print(state.dtype)\n",
    "    state = np.expand_dims(state, axis=0)\n",
    "    # print(\"Process state\", state.shape)\n",
    "    # state = state.transpose((2, 0, 1))\n",
    "    # print(state.shape)\n",
    "    state = torch.from_numpy(state)\n",
    "    state = state.to(device, dtype=torch.float32)\n",
    "    state = state.unsqueeze(1)\n",
    "    # state = state.transpose((2, 0, 1))\n",
    "    return state"
   ]
  },
  {
   "cell_type": "code",
   "execution_count": 3,
   "metadata": {},
   "outputs": [
    {
     "name": "stderr",
     "output_type": "stream",
     "text": [
      "A.L.E: Arcade Learning Environment (version 0.8.0+919230b)\n",
      "[Powered by Stella]\n"
     ]
    }
   ],
   "source": [
    "device = torch.device(\"cpu\")\n",
    "# device = torch.device(\"mps\")\n",
    "\n",
    "env_id = \"PongNoFrameskip-v4\"\n",
    "# env_id = \"ALE/Pong-v5\"\n",
    "# env = make_atari(env_id)\n",
    "# env = wrap_deepmind(env, frame_stack=True)\n",
    "\n",
    "# env = gym.make(env_id, render_mode=\"human\")\n",
    "env = gym.make(env_id)\n",
    "# env = gym.wrappers.AtariPreprocessing(env, frame_skip=4)\n",
    "env = gym.wrappers.AtariPreprocessing(env)\n",
    "\n",
    "seed_value = 23\n",
    "\n",
    "torch.manual_seed(seed_value)\n",
    "random.seed(seed_value)\n",
    "\n",
    "learning_rate = 0.0001\n",
    "num_episodes = 500\n",
    "gamma = 0.99\n",
    "\n",
    "hidden_layer = 512\n",
    "\n",
    "batch_size = 32\n",
    "experience_memory_size = 100000\n",
    "\n",
    "update_target_frequency = 2000\n",
    "\n",
    "report_interval = 20\n",
    "number_of_inputs = env.observation_space.shape[0]\n",
    "number_of_outputs = env.action_space.n\n"
   ]
  },
  {
   "cell_type": "code",
   "execution_count": 4,
   "metadata": {},
   "outputs": [
    {
     "name": "stdout",
     "output_type": "stream",
     "text": [
      "Loading model\n",
      "Loading model\n"
     ]
    }
   ],
   "source": [
    "qnet_agent = ConcreteDQN(\n",
    "    env,\n",
    "    NeuralNetworkWithCNN(number_of_inputs, hidden_layer, number_of_outputs).to(device),\n",
    "    learning_rate,\n",
    "    device,\n",
    "    gamma,\n",
    "    preprocess_state_func=preprocess_state,\n",
    "    egreedy=0.01,\n",
    "    egreedy_final=0.01,\n",
    "    egreedy_decay=10000,\n",
    "    save_model_frequency=10000,\n",
    "    resume_previous_training=True,\n",
    "    experience_memory_size=experience_memory_size,\n",
    "    batch_size=batch_size,\n",
    "    target_net=NeuralNetworkWithCNN(number_of_inputs, hidden_layer, number_of_outputs).to(device),\n",
    "    update_target_frequency=update_target_frequency\n",
    ")"
   ]
  },
  {
   "cell_type": "code",
   "execution_count": 22,
   "metadata": {},
   "outputs": [
    {
     "name": "stdout",
     "output_type": "stream",
     "text": [
      "0 21.0 0.01\n",
      "1 18.0 0.01\n",
      "Saving model\n",
      "2 16.0 0.01\n",
      "3 21.0 0.01\n",
      "4 13.0 0.01\n",
      "5 18.0 0.01\n",
      "Saving model\n",
      "6 17.0 0.01\n"
     ]
    }
   ],
   "source": [
    "qnet_agent.learn(num_episodes, seed_value, report_interval)"
   ]
  },
  {
   "cell_type": "code",
   "execution_count": null,
   "metadata": {},
   "outputs": [],
   "source": []
  }
 ],
 "metadata": {
  "kernelspec": {
   "display_name": "rl",
   "language": "python",
   "name": "python3"
  },
  "language_info": {
   "codemirror_mode": {
    "name": "ipython",
    "version": 3
   },
   "file_extension": ".py",
   "mimetype": "text/x-python",
   "name": "python",
   "nbconvert_exporter": "python",
   "pygments_lexer": "ipython3",
   "version": "3.9.12"
  },
  "orig_nbformat": 4,
  "vscode": {
   "interpreter": {
    "hash": "eda4f431b3035196407cea32adf8910cf59a6c0eaadb2bb1594bc39c8204a768"
   }
  }
 },
 "nbformat": 4,
 "nbformat_minor": 2
}
