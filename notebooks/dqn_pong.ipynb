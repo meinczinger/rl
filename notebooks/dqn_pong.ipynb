{
 "cells": [
  {
   "cell_type": "code",
   "execution_count": 1,
   "metadata": {},
   "outputs": [],
   "source": [
    "from dqn.dqn_base import ConcreteDQN\n",
    "from dqn.dqn_memory import DQNWithMemory\n",
    "from dqn.dqn_targetnn import DQNWithTargetNet\n",
    "from dqn.neural_net import NeuralNetworkWithCNN\n",
    "from dqn.memory import ExperienceReplay\n",
    "import gymnasium as gym\n",
    "import torch\n",
    "import random\n",
    "import matplotlib.pyplot as plt\n",
    "plt.style.use('_mpl-gallery')"
   ]
  },
  {
   "cell_type": "code",
   "execution_count": 18,
   "metadata": {},
   "outputs": [],
   "source": [
    "def preprocess_state(state, device):\n",
    "    state = state.transpose((2, 0, 1))\n",
    "    state = torch.from_numpy(state)\n",
    "    state = state.to(device, dtype=torch.float32)\n",
    "    state = state.unsqueeze(1)\n",
    "    return state"
   ]
  },
  {
   "cell_type": "code",
   "execution_count": 19,
   "metadata": {},
   "outputs": [],
   "source": [
    "device = torch.device(\"cpu\")\n",
    "\n",
    "env_id = \"PongNoFrameskip-v4\"\n",
    "\n",
    "env = gym.make(env_id)\n",
    "\n",
    "seed_value = 23\n",
    "\n",
    "torch.manual_seed(seed_value)\n",
    "random.seed(seed_value)\n",
    "\n",
    "learning_rate = 0.005\n",
    "num_episodes = 500\n",
    "gamma = 0.9999\n",
    "\n",
    "hidden_layer = 512\n",
    "\n",
    "report_interval = 20\n",
    "number_of_inputs = env.observation_space.shape[0]\n",
    "number_of_outputs = env.action_space.n\n"
   ]
  },
  {
   "cell_type": "code",
   "execution_count": 20,
   "metadata": {},
   "outputs": [],
   "source": [
    "qnet_agent = ConcreteDQN(\n",
    "    env,\n",
    "    NeuralNetworkWithCNN(number_of_inputs, hidden_layer, number_of_outputs).to(device),\n",
    "    learning_rate,\n",
    "    device,\n",
    "    gamma,\n",
    "    preprocess_state_func=preprocess_state\n",
    ")\n",
    "\n",
    "qnet_agent_with_memory = DQNWithMemory(\n",
    "    qnet_agent,\n",
    "    ExperienceReplay(50000),\n",
    "    32,\n",
    ")\n",
    "\n",
    "qnet_agent_with_targetnn = DQNWithTargetNet(\n",
    "    qnet_agent,\n",
    "    NeuralNetworkWithCNN(number_of_inputs, hidden_layer, number_of_outputs).to(device),\n",
    ")\n",
    "\n",
    "qnet_agent_with_memory_and_targetnn = DQNWithTargetNet(\n",
    "    qnet_agent_with_memory,\n",
    "    NeuralNetworkWithCNN(number_of_inputs, hidden_layer, number_of_outputs).to(device),\n",
    ")\n",
    "\n",
    "qnet_agent_with_memory_and_dueling = DQNWithTargetNet(\n",
    "    qnet_agent_with_memory,\n",
    "    NeuralNetworkWithCNN(number_of_inputs, hidden_layer, number_of_outputs).to(\n",
    "        device\n",
    "    ),\n",
    ")"
   ]
  },
  {
   "cell_type": "code",
   "execution_count": 21,
   "metadata": {},
   "outputs": [
    {
     "ename": "RuntimeError",
     "evalue": "mat1 and mat2 shapes cannot be multiplied (3x22528 and 3136x512)",
     "output_type": "error",
     "traceback": [
      "\u001b[0;31m---------------------------------------------------------------------------\u001b[0m",
      "\u001b[0;31mRuntimeError\u001b[0m                              Traceback (most recent call last)",
      "Cell \u001b[0;32mIn[21], line 1\u001b[0m\n\u001b[0;32m----> 1\u001b[0m qnet_agent\u001b[39m.\u001b[39;49mlearn(\u001b[39m500\u001b[39;49m, seed_value, report_interval)\n",
      "File \u001b[0;32m~/src/github/rl/dqn/dqn_base.py:168\u001b[0m, in \u001b[0;36mConcreteDQN.learn\u001b[0;34m(self, nr_of_episodes, seed_value, report_interval, metrics_callback)\u001b[0m\n\u001b[1;32m    164\u001b[0m frames_total \u001b[39m+\u001b[39m\u001b[39m=\u001b[39m \u001b[39m1\u001b[39m\n\u001b[1;32m    166\u001b[0m epsilon \u001b[39m=\u001b[39m \u001b[39mself\u001b[39m\u001b[39m.\u001b[39mcalculate_epsilon(frames_total)\n\u001b[0;32m--> 168\u001b[0m action \u001b[39m=\u001b[39m \u001b[39mself\u001b[39;49m\u001b[39m.\u001b[39;49mselect_action(state, epsilon)\n\u001b[1;32m    170\u001b[0m new_state, reward, done \u001b[39m=\u001b[39m \u001b[39mself\u001b[39m\u001b[39m.\u001b[39mstep(action)\n\u001b[1;32m    172\u001b[0m score \u001b[39m+\u001b[39m\u001b[39m=\u001b[39m reward\n",
      "File \u001b[0;32m~/src/github/rl/dqn/dqn_base.py:72\u001b[0m, in \u001b[0;36mConcreteDQN.select_action\u001b[0;34m(self, state, epsilon)\u001b[0m\n\u001b[1;32m     70\u001b[0m \u001b[39mwith\u001b[39;00m torch\u001b[39m.\u001b[39mno_grad():\n\u001b[1;32m     71\u001b[0m     state \u001b[39m=\u001b[39m \u001b[39mself\u001b[39m\u001b[39m.\u001b[39mpreprocess_state(state)\n\u001b[0;32m---> 72\u001b[0m     action_from_nn \u001b[39m=\u001b[39m \u001b[39mself\u001b[39;49m\u001b[39m.\u001b[39;49mneural_net(state)\n\u001b[1;32m     73\u001b[0m     action \u001b[39m=\u001b[39m torch\u001b[39m.\u001b[39mmax(action_from_nn, \u001b[39m0\u001b[39m)[\u001b[39m1\u001b[39m]\n\u001b[1;32m     74\u001b[0m     action \u001b[39m=\u001b[39m action\u001b[39m.\u001b[39mitem()\n",
      "File \u001b[0;32m~/.pyenv/versions/3.10.9/envs/rl/lib/python3.10/site-packages/torch/nn/modules/module.py:1194\u001b[0m, in \u001b[0;36mModule._call_impl\u001b[0;34m(self, *input, **kwargs)\u001b[0m\n\u001b[1;32m   1190\u001b[0m \u001b[39m# If we don't have any hooks, we want to skip the rest of the logic in\u001b[39;00m\n\u001b[1;32m   1191\u001b[0m \u001b[39m# this function, and just call forward.\u001b[39;00m\n\u001b[1;32m   1192\u001b[0m \u001b[39mif\u001b[39;00m \u001b[39mnot\u001b[39;00m (\u001b[39mself\u001b[39m\u001b[39m.\u001b[39m_backward_hooks \u001b[39mor\u001b[39;00m \u001b[39mself\u001b[39m\u001b[39m.\u001b[39m_forward_hooks \u001b[39mor\u001b[39;00m \u001b[39mself\u001b[39m\u001b[39m.\u001b[39m_forward_pre_hooks \u001b[39mor\u001b[39;00m _global_backward_hooks\n\u001b[1;32m   1193\u001b[0m         \u001b[39mor\u001b[39;00m _global_forward_hooks \u001b[39mor\u001b[39;00m _global_forward_pre_hooks):\n\u001b[0;32m-> 1194\u001b[0m     \u001b[39mreturn\u001b[39;00m forward_call(\u001b[39m*\u001b[39;49m\u001b[39minput\u001b[39;49m, \u001b[39m*\u001b[39;49m\u001b[39m*\u001b[39;49mkwargs)\n\u001b[1;32m   1195\u001b[0m \u001b[39m# Do not call functions when jit is used\u001b[39;00m\n\u001b[1;32m   1196\u001b[0m full_backward_hooks, non_full_backward_hooks \u001b[39m=\u001b[39m [], []\n",
      "File \u001b[0;32m~/src/github/rl/dqn/neural_net.py:76\u001b[0m, in \u001b[0;36mNeuralNetworkWithCNN.forward\u001b[0;34m(self, x)\u001b[0m\n\u001b[1;32m     72\u001b[0m output_conv \u001b[39m=\u001b[39m \u001b[39mself\u001b[39m\u001b[39m.\u001b[39mactivation(output_conv)\n\u001b[1;32m     74\u001b[0m output_conv \u001b[39m=\u001b[39m output_conv\u001b[39m.\u001b[39mview(output_conv\u001b[39m.\u001b[39msize(\u001b[39m0\u001b[39m), \u001b[39m-\u001b[39m\u001b[39m1\u001b[39m)\n\u001b[0;32m---> 76\u001b[0m output_advantage \u001b[39m=\u001b[39m \u001b[39mself\u001b[39;49m\u001b[39m.\u001b[39;49madvantage1(output_conv)\n\u001b[1;32m     77\u001b[0m output_advantage \u001b[39m=\u001b[39m \u001b[39mself\u001b[39m\u001b[39m.\u001b[39mactivation(output_advantage)\n\u001b[1;32m     78\u001b[0m output_advantage \u001b[39m=\u001b[39m \u001b[39mself\u001b[39m\u001b[39m.\u001b[39madvantage2(output_advantage)\n",
      "File \u001b[0;32m~/.pyenv/versions/3.10.9/envs/rl/lib/python3.10/site-packages/torch/nn/modules/module.py:1194\u001b[0m, in \u001b[0;36mModule._call_impl\u001b[0;34m(self, *input, **kwargs)\u001b[0m\n\u001b[1;32m   1190\u001b[0m \u001b[39m# If we don't have any hooks, we want to skip the rest of the logic in\u001b[39;00m\n\u001b[1;32m   1191\u001b[0m \u001b[39m# this function, and just call forward.\u001b[39;00m\n\u001b[1;32m   1192\u001b[0m \u001b[39mif\u001b[39;00m \u001b[39mnot\u001b[39;00m (\u001b[39mself\u001b[39m\u001b[39m.\u001b[39m_backward_hooks \u001b[39mor\u001b[39;00m \u001b[39mself\u001b[39m\u001b[39m.\u001b[39m_forward_hooks \u001b[39mor\u001b[39;00m \u001b[39mself\u001b[39m\u001b[39m.\u001b[39m_forward_pre_hooks \u001b[39mor\u001b[39;00m _global_backward_hooks\n\u001b[1;32m   1193\u001b[0m         \u001b[39mor\u001b[39;00m _global_forward_hooks \u001b[39mor\u001b[39;00m _global_forward_pre_hooks):\n\u001b[0;32m-> 1194\u001b[0m     \u001b[39mreturn\u001b[39;00m forward_call(\u001b[39m*\u001b[39;49m\u001b[39minput\u001b[39;49m, \u001b[39m*\u001b[39;49m\u001b[39m*\u001b[39;49mkwargs)\n\u001b[1;32m   1195\u001b[0m \u001b[39m# Do not call functions when jit is used\u001b[39;00m\n\u001b[1;32m   1196\u001b[0m full_backward_hooks, non_full_backward_hooks \u001b[39m=\u001b[39m [], []\n",
      "File \u001b[0;32m~/.pyenv/versions/3.10.9/envs/rl/lib/python3.10/site-packages/torch/nn/modules/linear.py:114\u001b[0m, in \u001b[0;36mLinear.forward\u001b[0;34m(self, input)\u001b[0m\n\u001b[1;32m    113\u001b[0m \u001b[39mdef\u001b[39;00m \u001b[39mforward\u001b[39m(\u001b[39mself\u001b[39m, \u001b[39minput\u001b[39m: Tensor) \u001b[39m-\u001b[39m\u001b[39m>\u001b[39m Tensor:\n\u001b[0;32m--> 114\u001b[0m     \u001b[39mreturn\u001b[39;00m F\u001b[39m.\u001b[39;49mlinear(\u001b[39minput\u001b[39;49m, \u001b[39mself\u001b[39;49m\u001b[39m.\u001b[39;49mweight, \u001b[39mself\u001b[39;49m\u001b[39m.\u001b[39;49mbias)\n",
      "\u001b[0;31mRuntimeError\u001b[0m: mat1 and mat2 shapes cannot be multiplied (3x22528 and 3136x512)"
     ]
    }
   ],
   "source": [
    "qnet_agent.learn(500, seed_value, report_interval)"
   ]
  },
  {
   "cell_type": "code",
   "execution_count": null,
   "metadata": {},
   "outputs": [],
   "source": []
  }
 ],
 "metadata": {
  "kernelspec": {
   "display_name": "rl",
   "language": "python",
   "name": "python3"
  },
  "language_info": {
   "codemirror_mode": {
    "name": "ipython",
    "version": 3
   },
   "file_extension": ".py",
   "mimetype": "text/x-python",
   "name": "python",
   "nbconvert_exporter": "python",
   "pygments_lexer": "ipython3",
   "version": "3.10.9"
  },
  "orig_nbformat": 4,
  "vscode": {
   "interpreter": {
    "hash": "f56eeaeed8280648a55c0663ce7126088139f1927b08fe806c6d1797f7e44138"
   }
  }
 },
 "nbformat": 4,
 "nbformat_minor": 2
}
