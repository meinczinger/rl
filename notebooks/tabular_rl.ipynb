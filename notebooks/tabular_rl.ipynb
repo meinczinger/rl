{
 "cells": [
  {
   "cell_type": "code",
   "execution_count": 1,
   "metadata": {},
   "outputs": [],
   "source": [
    "from tabular.dp import DP\n",
    "from tabular.q_learning import QLearning\n",
    "import gymnasium as gym\n",
    "import matplotlib.pyplot as plt\n",
    "plt.style.use('_mpl-gallery')"
   ]
  },
  {
   "cell_type": "code",
   "execution_count": 2,
   "metadata": {},
   "outputs": [],
   "source": [
    "# env = gym.make(\"FrozenLake-v1\", is_slippery=False)\n",
    "env = gym.make(\"Taxi-v3\")"
   ]
  },
  {
   "cell_type": "code",
   "execution_count": 16,
   "metadata": {},
   "outputs": [],
   "source": [
    "dp = DP(env, epsilon=0.7, epsilon_final=0.3, epsilon_decay=0.95, gamma=1.0)\n",
    "q = QLearning(env, alpha=0.5)"
   ]
  },
  {
   "cell_type": "code",
   "execution_count": 17,
   "metadata": {},
   "outputs": [],
   "source": [
    "nr_of_iterations = 1000\n",
    "ma_size = 20\n",
    "steps, scores = dp.learn(nr_of_iterations)\n",
    "stepsq, scoresq = q.learn(nr_of_iterations)"
   ]
  },
  {
   "cell_type": "code",
   "execution_count": 18,
   "metadata": {},
   "outputs": [
    {
     "data": {
      "image/png": "[encoded data removed]",
      "text/plain": [
       "<Figure size 200x200 with 1 Axes>"
      ]
     },
     "metadata": {},
     "output_type": "display_data"
    }
   ],
   "source": [
    "plt.plot(range(int(nr_of_iterations/ma_size)), [sum(steps[(i*ma_size):((i+1)*ma_size)])/ma_size for i in range(int(nr_of_iterations/ma_size))], linewidth=2.0, color='blue')\n",
    "plt.plot(range(int(nr_of_iterations/ma_size)), [sum(stepsq[(i*ma_size):((i+1)*ma_size)])/ma_size for i in range(int(nr_of_iterations/ma_size))], linewidth=2.0, color='green')\n",
    "plt.show()\n"
   ]
  },
  {
   "cell_type": "code",
   "execution_count": null,
   "metadata": {},
   "outputs": [],
   "source": []
  }
 ],
 "metadata": {
  "kernelspec": {
   "display_name": "rl",
   "language": "python",
   "name": "python3"
  },
  "language_info": {
   "codemirror_mode": {
    "name": "ipython",
    "version": 3
   },
   "file_extension": ".py",
   "mimetype": "text/x-python",
   "name": "python",
   "nbconvert_exporter": "python",
   "pygments_lexer": "ipython3",
   "version": "3.10.9"
  },
  "orig_nbformat": 4,
  "vscode": {
   "interpreter": {
    "hash": "f56eeaeed8280648a55c0663ce7126088139f1927b08fe806c6d1797f7e44138"
   }
  }
 },
 "nbformat": 4,
 "nbformat_minor": 2
}
