{
 "cells": [
  {
   "cell_type": "code",
   "execution_count": 1,
   "metadata": {},
   "outputs": [],
   "source": [
    "from dqn.dqn_base import ConcreteDQN\n",
    "from dqn.dqn_memory import DQNWithMemory\n",
    "from dqn.dqn_targetnn import DQNWithTargetNet\n",
    "from dqn.neural_net import NeuralNetwork, NeuralNetworkForDueling\n",
    "from dqn.memory import ExperienceReplay\n",
    "import gymnasium as gym\n",
    "import torch\n",
    "import random\n",
    "import matplotlib.pyplot as plt\n",
    "plt.style.use('_mpl-gallery')"
   ]
  },
  {
   "cell_type": "code",
   "execution_count": 2,
   "metadata": {},
   "outputs": [
    {
     "name": "stderr",
     "output_type": "stream",
     "text": [
      "/Users/meinczinger/.pyenv/versions/3.10.9/envs/rl/lib/python3.10/site-packages/gymnasium/envs/registration.py:577: UserWarning: \u001b[33mWARN: The environment CartPole-v0 is out of date. You should consider upgrading to version `v1`.\u001b[0m\n",
      "  logger.warn(\n"
     ]
    }
   ],
   "source": [
    "device = torch.device(\"cpu\")\n",
    "\n",
    "env = gym.make(\"CartPole-v0\")\n",
    "\n",
    "seed_value = 23\n",
    "# env.seed(seed_value)\n",
    "torch.manual_seed(seed_value)\n",
    "random.seed(seed_value)\n",
    "\n",
    "###### PARAMS ######\n",
    "learning_rate = 0.005\n",
    "num_episodes = 500\n",
    "gamma = 0.9999\n",
    "\n",
    "hidden_layer = 64\n",
    "\n",
    "report_interval = 20\n",
    "number_of_inputs = env.observation_space.shape[0]\n",
    "number_of_outputs = env.action_space.n\n"
   ]
  },
  {
   "cell_type": "code",
   "execution_count": 3,
   "metadata": {},
   "outputs": [],
   "source": [
    "qnet_agent = ConcreteDQN(\n",
    "    env,\n",
    "    NeuralNetwork(number_of_inputs, hidden_layer, number_of_outputs).to(device),\n",
    "    learning_rate,\n",
    "    device,\n",
    "    gamma,\n",
    ")\n",
    "\n",
    "qnet_agent_with_memory = DQNWithMemory(\n",
    "    qnet_agent,\n",
    "    ExperienceReplay(50000),\n",
    "    32,\n",
    ")\n",
    "\n",
    "qnet_agent_with_targetnn = DQNWithTargetNet(\n",
    "    qnet_agent,\n",
    "    NeuralNetwork(number_of_inputs, hidden_layer, number_of_outputs).to(device),\n",
    ")\n",
    "\n",
    "qnet_agent_with_memory_and_targetnn = DQNWithTargetNet(\n",
    "    qnet_agent_with_memory,\n",
    "    NeuralNetwork(number_of_inputs, hidden_layer, number_of_outputs).to(device),\n",
    ")\n",
    "\n",
    "qnet_agent_with_memory_and_dueling = DQNWithTargetNet(\n",
    "    qnet_agent_with_memory,\n",
    "    NeuralNetworkForDueling(number_of_inputs, hidden_layer, number_of_outputs).to(\n",
    "        device\n",
    "    ),\n",
    ")"
   ]
  },
  {
   "cell_type": "code",
   "execution_count": 6,
   "metadata": {},
   "outputs": [],
   "source": [
    "nr_of_iterations = 500\n",
    "ma_size = 20\n",
    "\n",
    "dqn_base_steps = qnet_agent_with_memory_and_targetnn.learn(500, seed_value, report_interval)"
   ]
  },
  {
   "cell_type": "code",
   "execution_count": 7,
   "metadata": {},
   "outputs": [
    {
     "data": {
      "image/png": "[encoded data removed]",
      "text/plain": [
       "<Figure size 200x200 with 1 Axes>"
      ]
     },
     "metadata": {},
     "output_type": "display_data"
    }
   ],
   "source": [
    "\n",
    "plt.plot(range(int(nr_of_iterations/ma_size)), [sum(dqn_base_steps[(i*ma_size):((i+1)*ma_size)])/ma_size for i in range(int(nr_of_iterations/ma_size))], linewidth=2.0, color='blue')\n",
    "plt.show()"
   ]
  },
  {
   "cell_type": "code",
   "execution_count": null,
   "metadata": {},
   "outputs": [],
   "source": []
  }
 ],
 "metadata": {
  "kernelspec": {
   "display_name": "rl",
   "language": "python",
   "name": "python3"
  },
  "language_info": {
   "codemirror_mode": {
    "name": "ipython",
    "version": 3
   },
   "file_extension": ".py",
   "mimetype": "text/x-python",
   "name": "python",
   "nbconvert_exporter": "python",
   "pygments_lexer": "ipython3",
   "version": "3.10.9 (main, Feb  6 2023, 22:09:54) [Clang 14.0.0 (clang-1400.0.29.202)]"
  },
  "orig_nbformat": 4,
  "vscode": {
   "interpreter": {
    "hash": "f56eeaeed8280648a55c0663ce7126088139f1927b08fe806c6d1797f7e44138"
   }
  }
 },
 "nbformat": 4,
 "nbformat_minor": 2
}
