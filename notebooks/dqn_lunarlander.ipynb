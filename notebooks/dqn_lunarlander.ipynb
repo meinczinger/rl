{
 "cells": [
  {
   "cell_type": "code",
   "execution_count": 1,
   "metadata": {},
   "outputs": [],
   "source": [
    "from dqn.policy import PolicyEpsilongGreedy\n",
    "from dqn.dqn_base import DeepQLearning, DQNFactory, DQNType\n",
    "from dqn.neural_net import NNLunarLander, NNLunarLanderDueling\n",
    "from dqn.environment import DQNEnvironment\n",
    "from dqn.hp_tuner import HPTuner\n",
    "from dqn.epsilon import Epsilon\n",
    "from ray import tune\n",
    "from pytorch_lightning import Trainer\n",
    "from pytorch_lightning.callbacks.early_stopping import EarlyStopping"
   ]
  },
  {
   "cell_type": "code",
   "execution_count": 2,
   "metadata": {},
   "outputs": [],
   "source": [
    "device = \"cpu\"\n",
    "hidden_size = 128\n",
    "epsilon = Epsilon(eps_start=1.0, eps_end=0.15, eps_last_episode=100)"
   ]
  },
  {
   "cell_type": "code",
   "execution_count": 3,
   "metadata": {},
   "outputs": [],
   "source": [
    "env = DQNEnvironment(\"LunarLander-v2\")"
   ]
  },
  {
   "attachments": {},
   "cell_type": "markdown",
   "metadata": {},
   "source": [
    "Tune hyperparameters, learning rate and gamma"
   ]
  },
  {
   "cell_type": "code",
   "execution_count": 9,
   "metadata": {},
   "outputs": [
    {
     "data": {
      "text/html": [
       "<div class=\"tuneStatus\">\n",
       "  <div style=\"display: flex;flex-direction: row\">\n",
       "    <div style=\"display: flex;flex-direction: column;\">\n",
       "      <h3>Tune Status</h3>\n",
       "      <table>\n",
       "<tbody>\n",
       "<tr><td>Current time:</td><td>2023-02-09 14:38:39</td></tr>\n",
       "<tr><td>Running for: </td><td>00:08:10.35        </td></tr>\n",
       "<tr><td>Memory:      </td><td>12.2/16.0 GiB      </td></tr>\n",
       "</tbody>\n",
       "</table>\n",
       "    </div>\n",
       "    <div class=\"vDivider\"></div>\n",
       "    <div class=\"systemInfo\">\n",
       "      <h3>System Info</h3>\n",
       "      Using AsyncHyperBand: num_stopped=50<br>Bracket: Iter 800.000: 7.821131706237793 | Iter 400.000: 2.0550628567580134 | Iter 200.000: -15.238513946533203 | Iter 100.000: -150.58763122558594 | Iter 50.000: -133.6432342529297<br>Resources requested: 0/8 CPUs, 0/0 GPUs, 0.0/6.54 GiB heap, 0.0/2.0 GiB objects\n",
       "    </div>\n",
       "    \n",
       "  </div>\n",
       "  <div class=\"hDivider\"></div>\n",
       "  <div class=\"trialStatus\">\n",
       "    <h3>Trial Status</h3>\n",
       "    <table>\n",
       "<thead>\n",
       "<tr><th>Trial name         </th><th>status    </th><th>loc            </th><th style=\"text-align: right;\">   gamma</th><th style=\"text-align: right;\">         lr</th><th style=\"text-align: right;\">  iter</th><th style=\"text-align: right;\">  total time (s)</th><th style=\"text-align: right;\">    hp_metric</th></tr>\n",
       "</thead>\n",
       "<tbody>\n",
       "<tr><td>trainer_eb149_00000</td><td>TERMINATED</td><td>127.0.0.1:13463</td><td style=\"text-align: right;\">0.93611 </td><td style=\"text-align: right;\">0.000100133</td><td style=\"text-align: right;\">    50</td><td style=\"text-align: right;\">        10.7098 </td><td style=\"text-align: right;\">-158.426     </td></tr>\n",
       "<tr><td>trainer_eb149_00001</td><td>TERMINATED</td><td>127.0.0.1:13467</td><td style=\"text-align: right;\">0.98276 </td><td style=\"text-align: right;\">0.000695508</td><td style=\"text-align: right;\">  1000</td><td style=\"text-align: right;\">       287.429  </td><td style=\"text-align: right;\">  37.3901    </td></tr>\n",
       "<tr><td>trainer_eb149_00002</td><td>TERMINATED</td><td>127.0.0.1:13468</td><td style=\"text-align: right;\">0.945218</td><td style=\"text-align: right;\">0.000418533</td><td style=\"text-align: right;\">   400</td><td style=\"text-align: right;\">       105.702  </td><td style=\"text-align: right;\">  -1.41431   </td></tr>\n",
       "<tr><td>trainer_eb149_00003</td><td>TERMINATED</td><td>127.0.0.1:13469</td><td style=\"text-align: right;\">0.940019</td><td style=\"text-align: right;\">0.000260006</td><td style=\"text-align: right;\">   800</td><td style=\"text-align: right;\">       227.953  </td><td style=\"text-align: right;\"> -11.0728    </td></tr>\n",
       "<tr><td>trainer_eb149_00004</td><td>TERMINATED</td><td>127.0.0.1:13470</td><td style=\"text-align: right;\">0.976439</td><td style=\"text-align: right;\">0.000184071</td><td style=\"text-align: right;\">    50</td><td style=\"text-align: right;\">         4.10576</td><td style=\"text-align: right;\">-159.046     </td></tr>\n",
       "<tr><td>trainer_eb149_00005</td><td>TERMINATED</td><td>127.0.0.1:13471</td><td style=\"text-align: right;\">0.910845</td><td style=\"text-align: right;\">0.000192719</td><td style=\"text-align: right;\">   100</td><td style=\"text-align: right;\">        12.9553 </td><td style=\"text-align: right;\">-197.135     </td></tr>\n",
       "<tr><td>trainer_eb149_00006</td><td>TERMINATED</td><td>127.0.0.1:13472</td><td style=\"text-align: right;\">0.908688</td><td style=\"text-align: right;\">0.000134325</td><td style=\"text-align: right;\">    50</td><td style=\"text-align: right;\">         5.59705</td><td style=\"text-align: right;\">-159.845     </td></tr>\n",
       "<tr><td>trainer_eb149_00007</td><td>TERMINATED</td><td>127.0.0.1:13473</td><td style=\"text-align: right;\">0.901616</td><td style=\"text-align: right;\">0.000146309</td><td style=\"text-align: right;\">    50</td><td style=\"text-align: right;\">         5.76562</td><td style=\"text-align: right;\">-191.554     </td></tr>\n",
       "<tr><td>trainer_eb149_00008</td><td>TERMINATED</td><td>127.0.0.1:13463</td><td style=\"text-align: right;\">0.984531</td><td style=\"text-align: right;\">0.000114193</td><td style=\"text-align: right;\">    50</td><td style=\"text-align: right;\">         3.71194</td><td style=\"text-align: right;\">-167.317     </td></tr>\n",
       "<tr><td>trainer_eb149_00009</td><td>TERMINATED</td><td>127.0.0.1:13470</td><td style=\"text-align: right;\">0.974087</td><td style=\"text-align: right;\">0.000321802</td><td style=\"text-align: right;\">   800</td><td style=\"text-align: right;\">       222.219  </td><td style=\"text-align: right;\">   7.10787   </td></tr>\n",
       "<tr><td>trainer_eb149_00010</td><td>TERMINATED</td><td>127.0.0.1:13473</td><td style=\"text-align: right;\">0.98786 </td><td style=\"text-align: right;\">0.000397106</td><td style=\"text-align: right;\">   100</td><td style=\"text-align: right;\">        14.752  </td><td style=\"text-align: right;\">-181.886     </td></tr>\n",
       "<tr><td>trainer_eb149_00011</td><td>TERMINATED</td><td>127.0.0.1:13472</td><td style=\"text-align: right;\">0.99039 </td><td style=\"text-align: right;\">0.000183224</td><td style=\"text-align: right;\">    50</td><td style=\"text-align: right;\">         4.3017 </td><td style=\"text-align: right;\">-140.62      </td></tr>\n",
       "<tr><td>trainer_eb149_00012</td><td>TERMINATED</td><td>127.0.0.1:13463</td><td style=\"text-align: right;\">0.908207</td><td style=\"text-align: right;\">0.000128458</td><td style=\"text-align: right;\">    50</td><td style=\"text-align: right;\">         3.72851</td><td style=\"text-align: right;\">-164.67      </td></tr>\n",
       "<tr><td>trainer_eb149_00013</td><td>TERMINATED</td><td>127.0.0.1:13472</td><td style=\"text-align: right;\">0.997031</td><td style=\"text-align: right;\">0.000132449</td><td style=\"text-align: right;\">    50</td><td style=\"text-align: right;\">         3.68772</td><td style=\"text-align: right;\">-144.031     </td></tr>\n",
       "<tr><td>trainer_eb149_00014</td><td>TERMINATED</td><td>127.0.0.1:13463</td><td style=\"text-align: right;\">0.921207</td><td style=\"text-align: right;\">0.00010136 </td><td style=\"text-align: right;\">    50</td><td style=\"text-align: right;\">         4.52191</td><td style=\"text-align: right;\">-157.297     </td></tr>\n",
       "<tr><td>trainer_eb149_00015</td><td>TERMINATED</td><td>127.0.0.1:13472</td><td style=\"text-align: right;\">0.91528 </td><td style=\"text-align: right;\">0.000172326</td><td style=\"text-align: right;\">    50</td><td style=\"text-align: right;\">         4.48339</td><td style=\"text-align: right;\">-169.927     </td></tr>\n",
       "<tr><td>trainer_eb149_00016</td><td>TERMINATED</td><td>127.0.0.1:13471</td><td style=\"text-align: right;\">0.908445</td><td style=\"text-align: right;\">0.000530165</td><td style=\"text-align: right;\">   400</td><td style=\"text-align: right;\">       106.052  </td><td style=\"text-align: right;\"> -18.5665    </td></tr>\n",
       "<tr><td>trainer_eb149_00017</td><td>TERMINATED</td><td>127.0.0.1:13463</td><td style=\"text-align: right;\">0.931486</td><td style=\"text-align: right;\">0.00028132 </td><td style=\"text-align: right;\">   100</td><td style=\"text-align: right;\">        13.4583 </td><td style=\"text-align: right;\">-174.833     </td></tr>\n",
       "<tr><td>trainer_eb149_00018</td><td>TERMINATED</td><td>127.0.0.1:13472</td><td style=\"text-align: right;\">0.975445</td><td style=\"text-align: right;\">0.000405474</td><td style=\"text-align: right;\">  1000</td><td style=\"text-align: right;\">       275.487  </td><td style=\"text-align: right;\"> -36.4675    </td></tr>\n",
       "<tr><td>trainer_eb149_00019</td><td>TERMINATED</td><td>127.0.0.1:13473</td><td style=\"text-align: right;\">0.999307</td><td style=\"text-align: right;\">0.000786679</td><td style=\"text-align: right;\">   400</td><td style=\"text-align: right;\">       104.707  </td><td style=\"text-align: right;\">  -8.66559   </td></tr>\n",
       "<tr><td>trainer_eb149_00020</td><td>TERMINATED</td><td>127.0.0.1:13463</td><td style=\"text-align: right;\">0.941945</td><td style=\"text-align: right;\">0.000135241</td><td style=\"text-align: right;\">    50</td><td style=\"text-align: right;\">         3.50458</td><td style=\"text-align: right;\">-160.636     </td></tr>\n",
       "<tr><td>trainer_eb149_00021</td><td>TERMINATED</td><td>127.0.0.1:13463</td><td style=\"text-align: right;\">0.994258</td><td style=\"text-align: right;\">0.000436217</td><td style=\"text-align: right;\">   200</td><td style=\"text-align: right;\">        41.0343 </td><td style=\"text-align: right;\"> -38.9032    </td></tr>\n",
       "<tr><td>trainer_eb149_00022</td><td>TERMINATED</td><td>127.0.0.1:13463</td><td style=\"text-align: right;\">0.948336</td><td style=\"text-align: right;\">0.000769932</td><td style=\"text-align: right;\">   800</td><td style=\"text-align: right;\">       247.232  </td><td style=\"text-align: right;\">  -4.98093   </td></tr>\n",
       "<tr><td>trainer_eb149_00023</td><td>TERMINATED</td><td>127.0.0.1:13468</td><td style=\"text-align: right;\">0.962581</td><td style=\"text-align: right;\">0.000404333</td><td style=\"text-align: right;\">  1000</td><td style=\"text-align: right;\">       276.056  </td><td style=\"text-align: right;\"> -62.607     </td></tr>\n",
       "<tr><td>trainer_eb149_00024</td><td>TERMINATED</td><td>127.0.0.1:13471</td><td style=\"text-align: right;\">0.92037 </td><td style=\"text-align: right;\">0.000740617</td><td style=\"text-align: right;\">   400</td><td style=\"text-align: right;\">       115.481  </td><td style=\"text-align: right;\">  -6.74917   </td></tr>\n",
       "<tr><td>trainer_eb149_00025</td><td>TERMINATED</td><td>127.0.0.1:13473</td><td style=\"text-align: right;\">0.95057 </td><td style=\"text-align: right;\">0.000554116</td><td style=\"text-align: right;\">   800</td><td style=\"text-align: right;\">       233.866  </td><td style=\"text-align: right;\">   4.83565   </td></tr>\n",
       "<tr><td>trainer_eb149_00026</td><td>TERMINATED</td><td>127.0.0.1:13470</td><td style=\"text-align: right;\">0.906645</td><td style=\"text-align: right;\">0.000812517</td><td style=\"text-align: right;\">   400</td><td style=\"text-align: right;\">       117.31   </td><td style=\"text-align: right;\"> -18.2642    </td></tr>\n",
       "<tr><td>trainer_eb149_00027</td><td>TERMINATED</td><td>127.0.0.1:13469</td><td style=\"text-align: right;\">0.956707</td><td style=\"text-align: right;\">0.000247738</td><td style=\"text-align: right;\">    50</td><td style=\"text-align: right;\">         4.06475</td><td style=\"text-align: right;\">-138.697     </td></tr>\n",
       "<tr><td>trainer_eb149_00028</td><td>TERMINATED</td><td>127.0.0.1:13469</td><td style=\"text-align: right;\">0.932466</td><td style=\"text-align: right;\">0.000158599</td><td style=\"text-align: right;\">    50</td><td style=\"text-align: right;\">         3.58909</td><td style=\"text-align: right;\">-143.245     </td></tr>\n",
       "<tr><td>trainer_eb149_00029</td><td>TERMINATED</td><td>127.0.0.1:13471</td><td style=\"text-align: right;\">0.924346</td><td style=\"text-align: right;\">0.000990249</td><td style=\"text-align: right;\">   200</td><td style=\"text-align: right;\">        47.3237 </td><td style=\"text-align: right;\"> -21.2964    </td></tr>\n",
       "<tr><td>trainer_eb149_00030</td><td>TERMINATED</td><td>127.0.0.1:13469</td><td style=\"text-align: right;\">0.91415 </td><td style=\"text-align: right;\">0.000411349</td><td style=\"text-align: right;\">   100</td><td style=\"text-align: right;\">        13.279  </td><td style=\"text-align: right;\">-191.268     </td></tr>\n",
       "<tr><td>trainer_eb149_00031</td><td>TERMINATED</td><td>127.0.0.1:13469</td><td style=\"text-align: right;\">0.964103</td><td style=\"text-align: right;\">0.000153261</td><td style=\"text-align: right;\">    50</td><td style=\"text-align: right;\">         4.1378 </td><td style=\"text-align: right;\">-144.402     </td></tr>\n",
       "<tr><td>trainer_eb149_00032</td><td>TERMINATED</td><td>127.0.0.1:13469</td><td style=\"text-align: right;\">0.940407</td><td style=\"text-align: right;\">0.000133221</td><td style=\"text-align: right;\">    50</td><td style=\"text-align: right;\">         3.56544</td><td style=\"text-align: right;\">-151.607     </td></tr>\n",
       "<tr><td>trainer_eb149_00033</td><td>TERMINATED</td><td>127.0.0.1:13469</td><td style=\"text-align: right;\">0.97464 </td><td style=\"text-align: right;\">0.000565796</td><td style=\"text-align: right;\">  1000</td><td style=\"text-align: right;\">       221.007  </td><td style=\"text-align: right;\">  28.0463    </td></tr>\n",
       "<tr><td>trainer_eb149_00034</td><td>TERMINATED</td><td>127.0.0.1:13471</td><td style=\"text-align: right;\">0.907647</td><td style=\"text-align: right;\">0.000128134</td><td style=\"text-align: right;\">    50</td><td style=\"text-align: right;\">         3.94907</td><td style=\"text-align: right;\">-159.303     </td></tr>\n",
       "<tr><td>trainer_eb149_00035</td><td>TERMINATED</td><td>127.0.0.1:13471</td><td style=\"text-align: right;\">0.973114</td><td style=\"text-align: right;\">0.000182725</td><td style=\"text-align: right;\">    50</td><td style=\"text-align: right;\">         3.81609</td><td style=\"text-align: right;\">-152.402     </td></tr>\n",
       "<tr><td>trainer_eb149_00036</td><td>TERMINATED</td><td>127.0.0.1:13467</td><td style=\"text-align: right;\">0.986811</td><td style=\"text-align: right;\">0.000396965</td><td style=\"text-align: right;\">   100</td><td style=\"text-align: right;\">        15.4693 </td><td style=\"text-align: right;\">-159.946     </td></tr>\n",
       "<tr><td>trainer_eb149_00037</td><td>TERMINATED</td><td>127.0.0.1:13471</td><td style=\"text-align: right;\">0.907114</td><td style=\"text-align: right;\">0.000295325</td><td style=\"text-align: right;\">    50</td><td style=\"text-align: right;\">         4.70983</td><td style=\"text-align: right;\">-135.739     </td></tr>\n",
       "<tr><td>trainer_eb149_00038</td><td>TERMINATED</td><td>127.0.0.1:13472</td><td style=\"text-align: right;\">0.942609</td><td style=\"text-align: right;\">0.000632429</td><td style=\"text-align: right;\">   100</td><td style=\"text-align: right;\">        14.2202 </td><td style=\"text-align: right;\">-167.16      </td></tr>\n",
       "<tr><td>trainer_eb149_00039</td><td>TERMINATED</td><td>127.0.0.1:13471</td><td style=\"text-align: right;\">0.955049</td><td style=\"text-align: right;\">0.000128018</td><td style=\"text-align: right;\">    50</td><td style=\"text-align: right;\">         3.87477</td><td style=\"text-align: right;\">-147.211     </td></tr>\n",
       "<tr><td>trainer_eb149_00040</td><td>TERMINATED</td><td>127.0.0.1:13471</td><td style=\"text-align: right;\">0.962156</td><td style=\"text-align: right;\">0.000100866</td><td style=\"text-align: right;\">    50</td><td style=\"text-align: right;\">         4.69054</td><td style=\"text-align: right;\">-162.113     </td></tr>\n",
       "<tr><td>trainer_eb149_00041</td><td>TERMINATED</td><td>127.0.0.1:13467</td><td style=\"text-align: right;\">0.981403</td><td style=\"text-align: right;\">0.000194111</td><td style=\"text-align: right;\">    50</td><td style=\"text-align: right;\">         4.5859 </td><td style=\"text-align: right;\">-140.726     </td></tr>\n",
       "<tr><td>trainer_eb149_00042</td><td>TERMINATED</td><td>127.0.0.1:13471</td><td style=\"text-align: right;\">0.979364</td><td style=\"text-align: right;\">0.000125161</td><td style=\"text-align: right;\">    50</td><td style=\"text-align: right;\">         4.50342</td><td style=\"text-align: right;\">-165.775     </td></tr>\n",
       "<tr><td>trainer_eb149_00043</td><td>TERMINATED</td><td>127.0.0.1:13472</td><td style=\"text-align: right;\">0.936999</td><td style=\"text-align: right;\">0.00065503 </td><td style=\"text-align: right;\">   400</td><td style=\"text-align: right;\">        83.9837 </td><td style=\"text-align: right;\">  -0.00671131</td></tr>\n",
       "<tr><td>trainer_eb149_00044</td><td>TERMINATED</td><td>127.0.0.1:13467</td><td style=\"text-align: right;\">0.922362</td><td style=\"text-align: right;\">0.000944992</td><td style=\"text-align: right;\">   200</td><td style=\"text-align: right;\">        48.3436 </td><td style=\"text-align: right;\"> -14.5824    </td></tr>\n",
       "<tr><td>trainer_eb149_00045</td><td>TERMINATED</td><td>127.0.0.1:13471</td><td style=\"text-align: right;\">0.933532</td><td style=\"text-align: right;\">0.00077255 </td><td style=\"text-align: right;\">   200</td><td style=\"text-align: right;\">        49.1811 </td><td style=\"text-align: right;\"> -15.8946    </td></tr>\n",
       "<tr><td>trainer_eb149_00046</td><td>TERMINATED</td><td>127.0.0.1:13463</td><td style=\"text-align: right;\">0.934793</td><td style=\"text-align: right;\">0.000199153</td><td style=\"text-align: right;\">    50</td><td style=\"text-align: right;\">         3.9073 </td><td style=\"text-align: right;\">-143.213     </td></tr>\n",
       "<tr><td>trainer_eb149_00047</td><td>TERMINATED</td><td>127.0.0.1:13463</td><td style=\"text-align: right;\">0.911454</td><td style=\"text-align: right;\">0.000462866</td><td style=\"text-align: right;\">   100</td><td style=\"text-align: right;\">        12.5364 </td><td style=\"text-align: right;\">-159.965     </td></tr>\n",
       "<tr><td>trainer_eb149_00048</td><td>TERMINATED</td><td>127.0.0.1:13463</td><td style=\"text-align: right;\">0.975363</td><td style=\"text-align: right;\">0.000109843</td><td style=\"text-align: right;\">    50</td><td style=\"text-align: right;\">         4.0324 </td><td style=\"text-align: right;\">-145.221     </td></tr>\n",
       "<tr><td>trainer_eb149_00049</td><td>TERMINATED</td><td>127.0.0.1:13463</td><td style=\"text-align: right;\">0.98752 </td><td style=\"text-align: right;\">0.0003876  </td><td style=\"text-align: right;\">   100</td><td style=\"text-align: right;\">        12.9915 </td><td style=\"text-align: right;\">-170.431     </td></tr>\n",
       "</tbody>\n",
       "</table>\n",
       "  </div>\n",
       "</div>\n",
       "<style>\n",
       ".tuneStatus {\n",
       "  color: var(--jp-ui-font-color1);\n",
       "}\n",
       ".tuneStatus .systemInfo {\n",
       "  display: flex;\n",
       "  flex-direction: column;\n",
       "}\n",
       ".tuneStatus td {\n",
       "  white-space: nowrap;\n",
       "}\n",
       ".tuneStatus .trialStatus {\n",
       "  display: flex;\n",
       "  flex-direction: column;\n",
       "}\n",
       ".tuneStatus h3 {\n",
       "  font-weight: bold;\n",
       "}\n",
       ".tuneStatus .hDivider {\n",
       "  border-bottom-width: var(--jp-border-width);\n",
       "  border-bottom-color: var(--jp-border-color0);\n",
       "  border-bottom-style: solid;\n",
       "}\n",
       ".tuneStatus .vDivider {\n",
       "  border-left-width: var(--jp-border-width);\n",
       "  border-left-color: var(--jp-border-color0);\n",
       "  border-left-style: solid;\n",
       "  margin: 0.5em 1em 0.5em 1em;\n",
       "}\n",
       "</style>\n"
      ],
      "text/plain": [
       "<IPython.core.display.HTML object>"
      ]
     },
     "metadata": {},
     "output_type": "display_data"
    },
    {
     "name": "stdout",
     "output_type": "stream",
     "text": [
      "{'lr': 0.0006955077074830977, 'gamma': 0.9827600443940492}\n"
     ]
    }
   ],
   "source": [
    "hp = HPTuner(\n",
    "    50,\n",
    "    1000,\n",
    "    config={\"lr\": tune.loguniform(1e-4, 1e-3), \"gamma\": tune.loguniform(0.9, 1.0)},\n",
    ")\n",
    "best_hp = hp.tune(algo_type=DQNType.DQN, env=env.env, policy=PolicyEpsilongGreedy(device), q_net=NNLunarLander(hidden_size, env.observation_size(), env.number_of_actions()))\n",
    "print(best_hp)"
   ]
  },
  {
   "attachments": {},
   "cell_type": "markdown",
   "metadata": {},
   "source": [
    "Run the algorithm with the tuned hyperparameters"
   ]
  },
  {
   "cell_type": "code",
   "execution_count": 4,
   "metadata": {},
   "outputs": [
    {
     "name": "stderr",
     "output_type": "stream",
     "text": [
      "/Users/meinczinger/.pyenv/versions/3.10.9/envs/rl/lib/python3.10/site-packages/pytorch_lightning/utilities/parsing.py:262: UserWarning: Attribute 'q_net' is an instance of `nn.Module` and is already saved during checkpointing. It is recommended to ignore them using `self.save_hyperparameters(ignore=['q_net'])`.\n",
      "  rank_zero_warn(\n",
      "/Users/meinczinger/.pyenv/versions/3.10.9/envs/rl/lib/python3.10/site-packages/gymnasium/utils/passive_env_checker.py:249: DeprecationWarning: `np.bool8` is a deprecated alias for `np.bool_`.  (Deprecated NumPy 1.24)\n",
      "  if not isinstance(terminated, (bool, np.bool8)):\n"
     ]
    }
   ],
   "source": [
    "# !rm -rf lightning_logs/*\n",
    "algo = DeepQLearning(env=env.env, policy=PolicyEpsilongGreedy(device), q_net=NNLunarLanderDueling(hidden_size, env.observation_size(), env.number_of_actions()), double_dqn=False)"
   ]
  },
  {
   "cell_type": "code",
   "execution_count": 5,
   "metadata": {},
   "outputs": [
    {
     "name": "stderr",
     "output_type": "stream",
     "text": [
      "GPU available: True (mps), used: False\n",
      "TPU available: False, using: 0 TPU cores\n",
      "IPU available: False, using: 0 IPUs\n",
      "HPU available: False, using: 0 HPUs\n",
      "/Users/meinczinger/.pyenv/versions/3.10.9/envs/rl/lib/python3.10/site-packages/pytorch_lightning/trainer/setup.py:200: UserWarning: MPS available but not used. Set `accelerator` and `devices` using `Trainer(accelerator='mps', devices=1)`.\n",
      "  rank_zero_warn(\n"
     ]
    }
   ],
   "source": [
    "match(device):\n",
    "    case 'cpu':\n",
    "        trainer = Trainer(\n",
    "            max_epochs=10_000,\n",
    "            callbacks=[EarlyStopping(monitor=\"episode/Return\", mode=\"max\", patience=500)],\n",
    "        )\n",
    "    case 'mps':\n",
    "        trainer = Trainer(\n",
    "            max_epochs=10_000,\n",
    "            callbacks=[EarlyStopping(monitor=\"episode/Return\", mode=\"max\", patience=500)],\n",
    "            accelerator=\"mps\", devices=1\n",
    "        )\n"
   ]
  },
  {
   "cell_type": "code",
   "execution_count": 6,
   "metadata": {},
   "outputs": [
    {
     "data": {
      "text/html": [
       "\n",
       "      <iframe id=\"tensorboard-frame-22a06690919c7a4b\" width=\"100%\" height=\"800\" frameborder=\"0\">\n",
       "      </iframe>\n",
       "      <script>\n",
       "        (function() {\n",
       "          const frame = document.getElementById(\"tensorboard-frame-22a06690919c7a4b\");\n",
       "          const url = new URL(\"/\", window.location);\n",
       "          const port = 6007;\n",
       "          if (port) {\n",
       "            url.port = port;\n",
       "          }\n",
       "          frame.src = url;\n",
       "        })();\n",
       "      </script>\n",
       "    "
      ],
      "text/plain": [
       "<IPython.core.display.HTML object>"
      ]
     },
     "metadata": {},
     "output_type": "display_data"
    },
    {
     "name": "stdout",
     "output_type": "stream",
     "text": [
      "Selecting TensorBoard with logdir lightning_logs (started 0:00:00 ago; port 6007, pid 33355).\n"
     ]
    },
    {
     "data": {
      "text/html": [
       "\n",
       "      <iframe id=\"tensorboard-frame-1bf353d7946164b6\" width=\"100%\" height=\"1000\" frameborder=\"0\">\n",
       "      </iframe>\n",
       "      <script>\n",
       "        (function() {\n",
       "          const frame = document.getElementById(\"tensorboard-frame-1bf353d7946164b6\");\n",
       "          const url = new URL(\"http://localhost\");\n",
       "          const port = 6007;\n",
       "          if (port) {\n",
       "            url.port = port;\n",
       "          }\n",
       "          frame.src = url;\n",
       "        })();\n",
       "      </script>\n",
       "    "
      ],
      "text/plain": [
       "<IPython.core.display.HTML object>"
      ]
     },
     "metadata": {},
     "output_type": "display_data"
    }
   ],
   "source": [
    "import tempfile\n",
    "import shutil\n",
    "from tensorboard import notebook\n",
    "shutil.rmtree(tempfile.gettempdir()+\"/.tensorboard-info\", ignore_errors=True)\n",
    "\n",
    "%load_ext tensorboard\n",
    "%tensorboard --logdir lightning_logs --port 6007\n",
    "\n",
    "notebook.display(port=6007, height=1000)"
   ]
  },
  {
   "cell_type": "code",
   "execution_count": 7,
   "metadata": {},
   "outputs": [
    {
     "name": "stderr",
     "output_type": "stream",
     "text": [
      "\n",
      "  | Name         | Type                 | Params\n",
      "------------------------------------------------------\n",
      "0 | q_net        | NNLunarLanderDueling | 18.3 K\n",
      "1 | target_q_net | NNLunarLanderDueling | 18.3 K\n",
      "------------------------------------------------------\n",
      "36.6 K    Trainable params\n",
      "0         Non-trainable params\n",
      "36.6 K    Total params\n",
      "0.146     Total estimated model params size (MB)\n",
      "/Users/meinczinger/.pyenv/versions/3.10.9/envs/rl/lib/python3.10/site-packages/pytorch_lightning/trainer/connectors/data_connector.py:224: PossibleUserWarning: The dataloader, train_dataloader, does not have many workers which may be a bottleneck. Consider increasing the value of the `num_workers` argument` (try 8 which is the number of cpus on this machine) in the `DataLoader` init to improve performance.\n",
      "  rank_zero_warn(\n"
     ]
    },
    {
     "data": {
      "application/vnd.jupyter.widget-view+json": {
       "model_id": "61103adb274d430c950122fd7d6491e0",
       "version_major": 2,
       "version_minor": 0
      },
      "text/plain": [
       "Training: 0it [00:00, ?it/s]"
      ]
     },
     "metadata": {},
     "output_type": "display_data"
    }
   ],
   "source": [
    "trainer.fit(algo)"
   ]
  },
  {
   "attachments": {},
   "cell_type": "markdown",
   "metadata": {},
   "source": [
    "![DQN](dqn_average_return.png)"
   ]
  },
  {
   "cell_type": "markdown",
   "metadata": {},
   "source": []
  }
 ],
 "metadata": {
  "kernelspec": {
   "display_name": "rl",
   "language": "python",
   "name": "python3"
  },
  "language_info": {
   "codemirror_mode": {
    "name": "ipython",
    "version": 3
   },
   "file_extension": ".py",
   "mimetype": "text/x-python",
   "name": "python",
   "nbconvert_exporter": "python",
   "pygments_lexer": "ipython3",
   "version": "3.10.9"
  },
  "orig_nbformat": 4,
  "vscode": {
   "interpreter": {
    "hash": "f56eeaeed8280648a55c0663ce7126088139f1927b08fe806c6d1797f7e44138"
   }
  }
 },
 "nbformat": 4,
 "nbformat_minor": 2
}
