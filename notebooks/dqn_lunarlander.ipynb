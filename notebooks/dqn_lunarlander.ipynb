{
 "cells": [
  {
   "cell_type": "code",
   "execution_count": 1,
   "metadata": {},
   "outputs": [],
   "source": [
    "from pytorch_lightning import Trainer\n",
    "from pytorch_lightning.callbacks import EarlyStopping\n",
    "from dqn.policy import PolicyEpsilongGreedy\n",
    "from dqn.dqn_base import DeepQLearning\n",
    "from dqn.neural_net import NNLunarLander\n",
    "from dqn.environment import DQNEnvironment"
   ]
  },
  {
   "cell_type": "code",
   "execution_count": 2,
   "metadata": {},
   "outputs": [],
   "source": [
    "device = \"cpu\"\n",
    "hidden_size = 128"
   ]
  },
  {
   "cell_type": "code",
   "execution_count": 3,
   "metadata": {},
   "outputs": [],
   "source": [
    "env = DQNEnvironment(\"LunarLander-v2\")"
   ]
  },
  {
   "cell_type": "code",
   "execution_count": 4,
   "metadata": {},
   "outputs": [
    {
     "name": "stderr",
     "output_type": "stream",
     "text": [
      "/Users/meinczinger/.pyenv/versions/3.10.9/envs/rl/lib/python3.10/site-packages/pytorch_lightning/utilities/parsing.py:262: UserWarning: Attribute 'q_net' is an instance of `nn.Module` and is already saved during checkpointing. It is recommended to ignore them using `self.save_hyperparameters(ignore=['q_net'])`.\n",
      "  rank_zero_warn(\n"
     ]
    }
   ],
   "source": [
    "algo = DeepQLearning(env=env.env, policy=PolicyEpsilongGreedy(device), q_net=NNLunarLander(hidden_size, env.observation_size(), env.number_of_actions()))"
   ]
  },
  {
   "cell_type": "code",
   "execution_count": 5,
   "metadata": {},
   "outputs": [
    {
     "name": "stderr",
     "output_type": "stream",
     "text": [
      "GPU available: True (mps), used: False\n",
      "TPU available: False, using: 0 TPU cores\n",
      "IPU available: False, using: 0 IPUs\n",
      "HPU available: False, using: 0 HPUs\n",
      "/Users/meinczinger/.pyenv/versions/3.10.9/envs/rl/lib/python3.10/site-packages/pytorch_lightning/trainer/setup.py:200: UserWarning: MPS available but not used. Set `accelerator` and `devices` using `Trainer(accelerator='mps', devices=1)`.\n",
      "  rank_zero_warn(\n"
     ]
    }
   ],
   "source": [
    "match(device):\n",
    "    case 'cpu':\n",
    "        trainer = Trainer(\n",
    "            max_epochs=10_000,\n",
    "            callbacks=[EarlyStopping(monitor=\"episode/Return\", mode=\"max\", patience=500)],\n",
    "        )\n",
    "    case 'mps':\n",
    "        trainer = Trainer(\n",
    "            max_epochs=10_000,\n",
    "            callbacks=[EarlyStopping(monitor=\"episode/Return\", mode=\"max\", patience=500)],\n",
    "            accelerator=\"mps\", devices=1\n",
    "        )\n"
   ]
  },
  {
   "cell_type": "code",
   "execution_count": 6,
   "metadata": {},
   "outputs": [
    {
     "name": "stderr",
     "output_type": "stream",
     "text": [
      "\n",
      "  | Name         | Type          | Params\n",
      "-----------------------------------------------\n",
      "0 | q_net        | NNLunarLander | 18.2 K\n",
      "1 | target_q_net | NNLunarLander | 18.2 K\n",
      "-----------------------------------------------\n",
      "36.4 K    Trainable params\n",
      "0         Non-trainable params\n",
      "36.4 K    Total params\n",
      "0.145     Total estimated model params size (MB)\n",
      "/Users/meinczinger/.pyenv/versions/3.10.9/envs/rl/lib/python3.10/site-packages/pytorch_lightning/trainer/connectors/data_connector.py:224: PossibleUserWarning: The dataloader, train_dataloader, does not have many workers which may be a bottleneck. Consider increasing the value of the `num_workers` argument` (try 8 which is the number of cpus on this machine) in the `DataLoader` init to improve performance.\n",
      "  rank_zero_warn(\n"
     ]
    },
    {
     "data": {
      "application/vnd.jupyter.widget-view+json": {
       "model_id": "898ed5a079bf4d1d8dad435da250328b",
       "version_major": 2,
       "version_minor": 0
      },
      "text/plain": [
       "Training: 0it [00:00, ?it/s]"
      ]
     },
     "metadata": {},
     "output_type": "display_data"
    }
   ],
   "source": [
    "trainer.fit(algo)"
   ]
  },
  {
   "cell_type": "markdown",
   "metadata": {},
   "source": []
  }
 ],
 "metadata": {
  "kernelspec": {
   "display_name": "rl",
   "language": "python",
   "name": "python3"
  },
  "language_info": {
   "codemirror_mode": {
    "name": "ipython",
    "version": 3
   },
   "file_extension": ".py",
   "mimetype": "text/x-python",
   "name": "python",
   "nbconvert_exporter": "python",
   "pygments_lexer": "ipython3",
   "version": "3.10.9"
  },
  "orig_nbformat": 4,
  "vscode": {
   "interpreter": {
    "hash": "f56eeaeed8280648a55c0663ce7126088139f1927b08fe806c6d1797f7e44138"
   }
  }
 },
 "nbformat": 4,
 "nbformat_minor": 2
}
