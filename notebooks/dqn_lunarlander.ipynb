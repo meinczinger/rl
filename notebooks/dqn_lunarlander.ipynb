{
 "cells": [
  {
   "cell_type": "code",
   "execution_count": 1,
   "metadata": {},
   "outputs": [],
   "source": [
    "from pytorch_lightning import Trainer\n",
    "from pytorch_lightning.callbacks import EarlyStopping\n",
    "from dqn.policy import PolicyEpsilongGreedy\n",
    "from dqn.dqn_base import DeepQLearning\n",
    "from dqn.neural_net import NNLunarLander\n",
    "from dqn.environment import DQNEnvironment"
   ]
  },
  {
   "cell_type": "code",
   "execution_count": 2,
   "metadata": {},
   "outputs": [],
   "source": [
    "device = \"cpu\"\n",
    "hidden_size = 128"
   ]
  },
  {
   "cell_type": "code",
   "execution_count": 3,
   "metadata": {},
   "outputs": [],
   "source": [
    "env = DQNEnvironment(\"LunarLander-v2\")"
   ]
  },
  {
   "cell_type": "code",
   "execution_count": 4,
   "metadata": {},
   "outputs": [
    {
     "name": "stderr",
     "output_type": "stream",
     "text": [
      "/Users/meinczinger/.pyenv/versions/3.10.9/envs/rl/lib/python3.10/site-packages/pytorch_lightning/utilities/parsing.py:262: UserWarning: Attribute 'q_net' is an instance of `nn.Module` and is already saved during checkpointing. It is recommended to ignore them using `self.save_hyperparameters(ignore=['q_net'])`.\n",
      "  rank_zero_warn(\n",
      "/Users/meinczinger/.pyenv/versions/3.10.9/envs/rl/lib/python3.10/site-packages/gymnasium/utils/passive_env_checker.py:249: DeprecationWarning: `np.bool8` is a deprecated alias for `np.bool_`.  (Deprecated NumPy 1.24)\n",
      "  if not isinstance(terminated, (bool, np.bool8)):\n"
     ]
    }
   ],
   "source": [
    "algo = DeepQLearning(env=env.env, policy=PolicyEpsilongGreedy(device), q_net=NNLunarLander(hidden_size, env.observation_size(), env.number_of_actions()))"
   ]
  },
  {
   "cell_type": "code",
   "execution_count": 5,
   "metadata": {},
   "outputs": [
    {
     "name": "stderr",
     "output_type": "stream",
     "text": [
      "GPU available: True (mps), used: False\n",
      "TPU available: False, using: 0 TPU cores\n",
      "IPU available: False, using: 0 IPUs\n",
      "HPU available: False, using: 0 HPUs\n",
      "/Users/meinczinger/.pyenv/versions/3.10.9/envs/rl/lib/python3.10/site-packages/pytorch_lightning/trainer/setup.py:200: UserWarning: MPS available but not used. Set `accelerator` and `devices` using `Trainer(accelerator='mps', devices=1)`.\n",
      "  rank_zero_warn(\n"
     ]
    }
   ],
   "source": [
    "match(device):\n",
    "    case 'cpu':\n",
    "        trainer = Trainer(\n",
    "            max_epochs=10_000,\n",
    "            callbacks=[EarlyStopping(monitor=\"episode/Return\", mode=\"max\", patience=500)],\n",
    "        )\n",
    "    case 'mps':\n",
    "        trainer = Trainer(\n",
    "            max_epochs=10_000,\n",
    "            callbacks=[EarlyStopping(monitor=\"episode/Return\", mode=\"max\", patience=500)],\n",
    "            accelerator=\"mps\", devices=1\n",
    "        )\n"
   ]
  },
  {
   "cell_type": "code",
   "execution_count": 9,
   "metadata": {},
   "outputs": [
    {
     "ename": "OSError",
     "evalue": "[Errno 66] Directory not empty: '/var/folders/p4/sx92s3r16bd6vnw52t0mxzq00000gn/T/.tensorboard-info'",
     "output_type": "error",
     "traceback": [
      "\u001b[0;31m---------------------------------------------------------------------------\u001b[0m",
      "\u001b[0;31mOSError\u001b[0m                                   Traceback (most recent call last)",
      "Cell \u001b[0;32mIn[9], line 3\u001b[0m\n\u001b[1;32m      1\u001b[0m \u001b[39mimport\u001b[39;00m \u001b[39mtempfile\u001b[39;00m\n\u001b[1;32m      2\u001b[0m \u001b[39mimport\u001b[39;00m \u001b[39mos\u001b[39;00m\n\u001b[0;32m----> 3\u001b[0m os\u001b[39m.\u001b[39;49mremovedirs(tempfile\u001b[39m.\u001b[39;49mgettempdir()\u001b[39m+\u001b[39;49m\u001b[39m\"\u001b[39;49m\u001b[39m/.tensorboard-info\u001b[39;49m\u001b[39m\"\u001b[39;49m)\n\u001b[1;32m      5\u001b[0m get_ipython()\u001b[39m.\u001b[39mrun_line_magic(\u001b[39m'\u001b[39m\u001b[39mload_ext\u001b[39m\u001b[39m'\u001b[39m, \u001b[39m'\u001b[39m\u001b[39mtensorboard\u001b[39m\u001b[39m'\u001b[39m)\n\u001b[1;32m      6\u001b[0m get_ipython()\u001b[39m.\u001b[39mrun_line_magic(\u001b[39m'\u001b[39m\u001b[39mtensorboard\u001b[39m\u001b[39m'\u001b[39m, \u001b[39m'\u001b[39m\u001b[39m--logdir lightning_logs\u001b[39m\u001b[39m'\u001b[39m)\n",
      "File \u001b[0;32m~/.pyenv/versions/3.10.9/lib/python3.10/os.py:243\u001b[0m, in \u001b[0;36mremovedirs\u001b[0;34m(name)\u001b[0m\n\u001b[1;32m    232\u001b[0m \u001b[39mdef\u001b[39;00m \u001b[39mremovedirs\u001b[39m(name):\n\u001b[1;32m    233\u001b[0m \u001b[39m    \u001b[39m\u001b[39m\"\"\"removedirs(name)\u001b[39;00m\n\u001b[1;32m    234\u001b[0m \n\u001b[1;32m    235\u001b[0m \u001b[39m    Super-rmdir; remove a leaf directory and all empty intermediate\u001b[39;00m\n\u001b[0;32m   (...)\u001b[0m\n\u001b[1;32m    241\u001b[0m \n\u001b[1;32m    242\u001b[0m \u001b[39m    \"\"\"\u001b[39;00m\n\u001b[0;32m--> 243\u001b[0m     rmdir(name)\n\u001b[1;32m    244\u001b[0m     head, tail \u001b[39m=\u001b[39m path\u001b[39m.\u001b[39msplit(name)\n\u001b[1;32m    245\u001b[0m     \u001b[39mif\u001b[39;00m \u001b[39mnot\u001b[39;00m tail:\n",
      "\u001b[0;31mOSError\u001b[0m: [Errno 66] Directory not empty: '/var/folders/p4/sx92s3r16bd6vnw52t0mxzq00000gn/T/.tensorboard-info'"
     ]
    }
   ],
   "source": [
    "import tempfile\n",
    "import shutil\n",
    "shutil.rmtree(tempfile.gettempdir()+\"/.tensorboard-info\", ignore_errors=True)\n",
    "\n",
    "%load_ext tensorboard\n",
    "%tensorboard --logdir lightning_logs"
   ]
  },
  {
   "cell_type": "code",
   "execution_count": null,
   "metadata": {},
   "outputs": [],
   "source": []
  },
  {
   "cell_type": "code",
   "execution_count": 9,
   "metadata": {},
   "outputs": [
    {
     "name": "stderr",
     "output_type": "stream",
     "text": [
      "\n",
      "  | Name         | Type          | Params\n",
      "-----------------------------------------------\n",
      "0 | q_net        | NNLunarLander | 18.2 K\n",
      "1 | target_q_net | NNLunarLander | 18.2 K\n",
      "-----------------------------------------------\n",
      "36.4 K    Trainable params\n",
      "0         Non-trainable params\n",
      "36.4 K    Total params\n",
      "0.145     Total estimated model params size (MB)\n"
     ]
    }
   ],
   "source": [
    "trainer.fit(algo)"
   ]
  },
  {
   "cell_type": "code",
   "execution_count": null,
   "metadata": {},
   "outputs": [],
   "source": []
  }
 ],
 "metadata": {
  "kernelspec": {
   "display_name": "rl",
   "language": "python",
   "name": "python3"
  },
  "language_info": {
   "codemirror_mode": {
    "name": "ipython",
    "version": 3
   },
   "file_extension": ".py",
   "mimetype": "text/x-python",
   "name": "python",
   "nbconvert_exporter": "python",
   "pygments_lexer": "ipython3",
   "version": "3.10.9"
  },
  "orig_nbformat": 4,
  "vscode": {
   "interpreter": {
    "hash": "f56eeaeed8280648a55c0663ce7126088139f1927b08fe806c6d1797f7e44138"
   }
  }
 },
 "nbformat": 4,
 "nbformat_minor": 2
}
